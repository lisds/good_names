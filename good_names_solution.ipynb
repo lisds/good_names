{
 "cells": [
  {
   "cell_type": "markdown",
   "id": "c1c0496a",
   "metadata": {},
   "source": [
    "# On names\n",
    "\n",
    "This page has some exercises that relate most directly to the\n",
    "[names](https://lisds.github.io/textbook/code-basics/Names) section.\n",
    "\n",
    "Below you will see some code for you to look at, and think about.  You may want\n",
    "to test things out in code.   We have made you some notebook code cells to test\n",
    "stuff below the questions.\n"
   ]
  },
  {
   "cell_type": "markdown",
   "id": "22a0b68d",
   "metadata": {},
   "source": [
    "## Good names?\n",
    "\n",
    "Here are some assignment statements. Are these valid names?  Why - or why not?\n",
    "When you have an answer, try the names in the Notebook cell below this one,\n",
    "and see what you get."
   ]
  },
  {
   "cell_type": "markdown",
   "id": "034f38e4",
   "metadata": {},
   "source": [
    "```\n",
    "five = 5\n",
    "```\n",
    "\n",
    "```\n",
    "Five = 5\n",
    "```\n",
    "\n",
    "```\n",
    "five_Point_three = 5\n",
    "```\n",
    "\n",
    "```\n",
    "five3 = 5\n",
    "```\n",
    "\n",
    "```\n",
    "_five_ = 5\n",
    "```\n",
    "\n",
    "```\n",
    "five_3 = 5\n",
    "```\n",
    "\n",
    "```\n",
    "five.3 = 5\n",
    "```\n",
    "\n",
    "```\n",
    "3five = 5\n",
    "```\n",
    "\n",
    "```\n",
    "five-point-three = 5\n",
    "```"
   ]
  },
  {
   "cell_type": "code",
   "execution_count": 1,
   "id": "8b15571d",
   "metadata": {
    "execution": {
     "iopub.execute_input": "2022-11-14T10:07:45.303828Z",
     "iopub.status.busy": "2022-11-14T10:07:45.303455Z",
     "iopub.status.idle": "2022-11-14T10:07:45.309014Z",
     "shell.execute_reply": "2022-11-14T10:07:45.308250Z"
    },
    "lines_to_next_cell": 0
   },
   "outputs": [],
   "source": [
    "# Use this cell to copy / paste the individual assignment statements\n",
    "# after you have decided whether and why Python will reject them.\n"
   ]
  },
  {
   "cell_type": "markdown",
   "id": "5887492d",
   "metadata": {},
   "source": [
    "\n"
   ]
  },
  {
   "cell_type": "markdown",
   "id": "bcf1de07",
   "metadata": {},
   "source": [
    "## How does assignment work?\n",
    "\n",
    "Look at these blocks of lines below, and try and work out what each of these\n",
    "expressions will return.  Are they valid expressions?  Will they give an\n",
    "error?\n",
    "\n",
    "Don't enter the lines into the notebook until you have worked out your answer.\n",
    "When you do have an answer, try entering the expression in the code cell.\n",
    "\n",
    "Two variables:\n",
    "\n",
    "```\n",
    "a = 5\n",
    "b = 3\n",
    "a + b * 4\n",
    "```"
   ]
  },
  {
   "cell_type": "code",
   "execution_count": 2,
   "id": "7b86fe60",
   "metadata": {
    "execution": {
     "iopub.execute_input": "2022-11-14T10:07:45.313028Z",
     "iopub.status.busy": "2022-11-14T10:07:45.312429Z",
     "iopub.status.idle": "2022-11-14T10:07:45.315861Z",
     "shell.execute_reply": "2022-11-14T10:07:45.315188Z"
    }
   },
   "outputs": [],
   "source": [
    "# When you think you have the answer, try the code here.\n"
   ]
  },
  {
   "cell_type": "markdown",
   "id": "20ce90d5",
   "metadata": {},
   "source": [
    "Reassignment:\n",
    "\n",
    "```\n",
    "a = 5\n",
    "a = a + 3\n",
    "a\n",
    "```"
   ]
  },
  {
   "cell_type": "code",
   "execution_count": 3,
   "id": "62319bcb",
   "metadata": {
    "execution": {
     "iopub.execute_input": "2022-11-14T10:07:45.318824Z",
     "iopub.status.busy": "2022-11-14T10:07:45.318628Z",
     "iopub.status.idle": "2022-11-14T10:07:45.320909Z",
     "shell.execute_reply": "2022-11-14T10:07:45.320471Z"
    }
   },
   "outputs": [],
   "source": [
    "# When you think you have the answer, try the code here.\n"
   ]
  },
  {
   "cell_type": "markdown",
   "id": "48afe521",
   "metadata": {},
   "source": [
    "Reassignment again:\n",
    "\n",
    "```\n",
    "a = 5\n",
    "b = a + 3\n",
    "a = 3\n",
    "b\n",
    "```"
   ]
  },
  {
   "cell_type": "code",
   "execution_count": 4,
   "id": "5470cfd2",
   "metadata": {
    "execution": {
     "iopub.execute_input": "2022-11-14T10:07:45.323382Z",
     "iopub.status.busy": "2022-11-14T10:07:45.323213Z",
     "iopub.status.idle": "2022-11-14T10:07:45.325272Z",
     "shell.execute_reply": "2022-11-14T10:07:45.324891Z"
    }
   },
   "outputs": [],
   "source": [
    "# When you think you have the answer, try the code here.\n"
   ]
  },
  {
   "cell_type": "markdown",
   "id": "ae160c54",
   "metadata": {},
   "source": [
    "Reassignment again again:\n",
    "\n",
    "```\n",
    "first_variable = 5\n",
    "second_variable = first_variable + 3\n",
    "first_variable = 3\n",
    "second_variable\n",
    "```"
   ]
  },
  {
   "cell_type": "code",
   "execution_count": 5,
   "id": "334654c2",
   "metadata": {
    "execution": {
     "iopub.execute_input": "2022-11-14T10:07:45.327436Z",
     "iopub.status.busy": "2022-11-14T10:07:45.327280Z",
     "iopub.status.idle": "2022-11-14T10:07:45.329340Z",
     "shell.execute_reply": "2022-11-14T10:07:45.328931Z"
    }
   },
   "outputs": [],
   "source": [
    "# When you think you have the answer, try the code here.\n"
   ]
  },
  {
   "cell_type": "markdown",
   "id": "257e162f",
   "metadata": {},
   "source": [
    "Another two variables:\n",
    "\n",
    "```\n",
    "a = 5\n",
    "a * 3 * c\n",
    "```"
   ]
  },
  {
   "cell_type": "code",
   "execution_count": 6,
   "id": "ee24ba7d",
   "metadata": {
    "execution": {
     "iopub.execute_input": "2022-11-14T10:07:45.331327Z",
     "iopub.status.busy": "2022-11-14T10:07:45.331195Z",
     "iopub.status.idle": "2022-11-14T10:07:45.332966Z",
     "shell.execute_reply": "2022-11-14T10:07:45.332654Z"
    }
   },
   "outputs": [],
   "source": [
    "# When you think you have the answer, try the code here.\n"
   ]
  },
  {
   "cell_type": "markdown",
   "id": "83e5754a",
   "metadata": {},
   "source": [
    "What about this expression?\n",
    "\n",
    "```\n",
    "a = 5\n",
    "a 5 + 4 * 3\n",
    "```"
   ]
  },
  {
   "cell_type": "code",
   "execution_count": 7,
   "id": "7cb742c9",
   "metadata": {
    "execution": {
     "iopub.execute_input": "2022-11-14T10:07:45.334890Z",
     "iopub.status.busy": "2022-11-14T10:07:45.334754Z",
     "iopub.status.idle": "2022-11-14T10:07:45.336448Z",
     "shell.execute_reply": "2022-11-14T10:07:45.336110Z"
    }
   },
   "outputs": [],
   "source": [
    "# When you think you have the answer, try the code here.\n"
   ]
  },
  {
   "cell_type": "markdown",
   "id": "faa9b18c",
   "metadata": {},
   "source": [
    "## Leaping ahead\n",
    "\n",
    "This one is more tricky, and uses stuff you have not yet seen.  Look at this and try and predict what you would see, after you run these two statements.  Then try running them in a Notebook or in Python.  What do you see?  Why?\n",
    "\n",
    "```\n",
    "my_variable == 5\n",
    "my_variable * 4\n",
    "```\n",
    "\n",
    "Hint: look carefully at the equals in the first statement.  You may want to do\n",
    "a web-search to see what is going on.\n"
   ]
  },
  {
   "cell_type": "code",
   "execution_count": 8,
   "id": "cc99eae2",
   "metadata": {
    "execution": {
     "iopub.execute_input": "2022-11-14T10:07:45.338225Z",
     "iopub.status.busy": "2022-11-14T10:07:45.338093Z",
     "iopub.status.idle": "2022-11-14T10:07:45.339862Z",
     "shell.execute_reply": "2022-11-14T10:07:45.339562Z"
    }
   },
   "outputs": [],
   "source": [
    "# When you think you have the answer, try the code here.\n"
   ]
  }
 ],
 "metadata": {
  "anaconda-cloud": {},
  "jupytext": {
   "notebook_metadata_filter": "all,-language_info",
   "split_at_heading": true,
   "text_representation": {
    "extension": ".Rmd",
    "format_name": "rmarkdown",
    "format_version": "1.2",
    "jupytext_version": "1.13.7"
   }
  },
  "kernelspec": {
   "display_name": "Python 3",
   "language": "python",
   "name": "python3"
  },
  "language_info": {
   "codemirror_mode": {
    "name": "ipython",
    "version": 3
   },
   "file_extension": ".py",
   "mimetype": "text/x-python",
   "name": "python",
   "nbconvert_exporter": "python",
   "pygments_lexer": "ipython3",
   "version": "3.10.7"
  }
 },
 "nbformat": 4,
 "nbformat_minor": 5
}
