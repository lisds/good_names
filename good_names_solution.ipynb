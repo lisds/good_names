{
 "cells": [
  {
   "cell_type": "markdown",
   "id": "5d735b1f",
   "metadata": {},
   "source": [
    "# On names\n",
    "\n",
    "This page has some exercises that relate most directly to the\n",
    "[names](https://lisds.github.io/textbook/code-basics/Names) section.\n",
    "\n",
    "Below you will see some code for you to look at, and think about.  You may want\n",
    "to test things out in code.   We have made you some notebook code cells to test\n",
    "stuff below the questions.\n"
   ]
  },
  {
   "cell_type": "markdown",
   "id": "17fcab70",
   "metadata": {},
   "source": [
    "## Good names?\n",
    "\n",
    "Here are some assignment statements. Are these valid names?  Why - or why not?\n",
    "When you have an answer, try the names in the Notebook cell below this one,\n",
    "and see what you get."
   ]
  },
  {
   "cell_type": "markdown",
   "id": "a434074e",
   "metadata": {},
   "source": [
    "```\n",
    "five = 5\n",
    "```\n",
    "\n",
    "```\n",
    "Five = 5\n",
    "```\n",
    "\n",
    "```\n",
    "five_Point_three = 5\n",
    "```\n",
    "\n",
    "```\n",
    "five3 = 5\n",
    "```\n",
    "\n",
    "```\n",
    "_five_ = 5\n",
    "```\n",
    "\n",
    "```\n",
    "five_3 = 5\n",
    "```\n",
    "\n",
    "```\n",
    "five.3 = 5\n",
    "```\n",
    "\n",
    "```\n",
    "3five = 5\n",
    "```\n",
    "\n",
    "```\n",
    "five-point-three = 5\n",
    "```"
   ]
  },
  {
   "cell_type": "code",
   "execution_count": 1,
   "id": "58e9756e",
   "metadata": {
    "execution": {
     "iopub.execute_input": "2022-11-02T22:30:32.435436Z",
     "iopub.status.busy": "2022-11-02T22:30:32.435041Z",
     "iopub.status.idle": "2022-11-02T22:30:32.440611Z",
     "shell.execute_reply": "2022-11-02T22:30:32.440031Z"
    },
    "lines_to_next_cell": 0
   },
   "outputs": [],
   "source": [
    "# Use this cell to copy / paste the individual assignment statements\n",
    "# after you have decided whether and why Python will reject them.\n"
   ]
  },
  {
   "cell_type": "markdown",
   "id": "b04d1680",
   "metadata": {},
   "source": [
    "\n"
   ]
  },
  {
   "cell_type": "markdown",
   "id": "9dcc4835",
   "metadata": {},
   "source": [
    "## How does assignment work?\n",
    "\n",
    "Look at these blocks of lines below, and try and work out what each of these\n",
    "expressions will return.  Are they valid expressions?  Will they give an\n",
    "error?\n",
    "\n",
    "Don't enter the lines into the notebook until you have worked out your answer.\n",
    "When you do have an answer, try entering the expression in the code cell.\n",
    "\n",
    "Two variables:\n",
    "\n",
    "```\n",
    "a = 5\n",
    "b = 3\n",
    "a + b * 4\n",
    "```"
   ]
  },
  {
   "cell_type": "code",
   "execution_count": 2,
   "id": "4eccf547",
   "metadata": {
    "execution": {
     "iopub.execute_input": "2022-11-02T22:30:32.444721Z",
     "iopub.status.busy": "2022-11-02T22:30:32.444273Z",
     "iopub.status.idle": "2022-11-02T22:30:32.447269Z",
     "shell.execute_reply": "2022-11-02T22:30:32.446759Z"
    }
   },
   "outputs": [],
   "source": [
    "# When you think you have the answer, try the code here.\n"
   ]
  },
  {
   "cell_type": "markdown",
   "id": "ddf2d36c",
   "metadata": {},
   "source": [
    "Reassignment:\n",
    "\n",
    "```\n",
    "a = 5\n",
    "a = a + 3\n",
    "a\n",
    "```"
   ]
  },
  {
   "cell_type": "code",
   "execution_count": 3,
   "id": "44388462",
   "metadata": {
    "execution": {
     "iopub.execute_input": "2022-11-02T22:30:32.450459Z",
     "iopub.status.busy": "2022-11-02T22:30:32.450076Z",
     "iopub.status.idle": "2022-11-02T22:30:32.452512Z",
     "shell.execute_reply": "2022-11-02T22:30:32.452082Z"
    }
   },
   "outputs": [],
   "source": [
    "# When you think you have the answer, try the code here.\n"
   ]
  },
  {
   "cell_type": "markdown",
   "id": "164d0234",
   "metadata": {},
   "source": [
    "Reassignment again:\n",
    "\n",
    "```\n",
    "a = 5\n",
    "b = a + 3\n",
    "a = 3\n",
    "b\n",
    "```"
   ]
  },
  {
   "cell_type": "code",
   "execution_count": 4,
   "id": "6649d613",
   "metadata": {
    "execution": {
     "iopub.execute_input": "2022-11-02T22:30:32.455107Z",
     "iopub.status.busy": "2022-11-02T22:30:32.454905Z",
     "iopub.status.idle": "2022-11-02T22:30:32.456977Z",
     "shell.execute_reply": "2022-11-02T22:30:32.456611Z"
    }
   },
   "outputs": [],
   "source": [
    "# When you think you have the answer, try the code here.\n"
   ]
  },
  {
   "cell_type": "markdown",
   "id": "a3ef09d5",
   "metadata": {},
   "source": [
    "Reassignment again again:\n",
    "\n",
    "```\n",
    "first_variable = 5\n",
    "second_variable = first_variable + 3\n",
    "first_variable = 3\n",
    "second_variable\n",
    "```"
   ]
  },
  {
   "cell_type": "code",
   "execution_count": 5,
   "id": "d108500d",
   "metadata": {
    "execution": {
     "iopub.execute_input": "2022-11-02T22:30:32.459180Z",
     "iopub.status.busy": "2022-11-02T22:30:32.459030Z",
     "iopub.status.idle": "2022-11-02T22:30:32.461008Z",
     "shell.execute_reply": "2022-11-02T22:30:32.460644Z"
    }
   },
   "outputs": [],
   "source": [
    "# When you think you have the answer, try the code here.\n"
   ]
  },
  {
   "cell_type": "markdown",
   "id": "e2b6eb46",
   "metadata": {},
   "source": [
    "Another two variables:\n",
    "\n",
    "```\n",
    "a = 5\n",
    "a * 3 * c\n",
    "```"
   ]
  },
  {
   "cell_type": "code",
   "execution_count": 6,
   "id": "2fe2e9c7",
   "metadata": {
    "execution": {
     "iopub.execute_input": "2022-11-02T22:30:32.463104Z",
     "iopub.status.busy": "2022-11-02T22:30:32.462952Z",
     "iopub.status.idle": "2022-11-02T22:30:32.464998Z",
     "shell.execute_reply": "2022-11-02T22:30:32.464699Z"
    }
   },
   "outputs": [],
   "source": [
    "# When you think you have the answer, try the code here.\n"
   ]
  },
  {
   "cell_type": "markdown",
   "id": "91a30718",
   "metadata": {},
   "source": [
    "What about this expression?\n",
    "\n",
    "```\n",
    "a = 5\n",
    "a 5 + 4 * 3\n",
    "```"
   ]
  },
  {
   "cell_type": "code",
   "execution_count": 7,
   "id": "7a5bf65a",
   "metadata": {
    "execution": {
     "iopub.execute_input": "2022-11-02T22:30:32.466894Z",
     "iopub.status.busy": "2022-11-02T22:30:32.466758Z",
     "iopub.status.idle": "2022-11-02T22:30:32.468585Z",
     "shell.execute_reply": "2022-11-02T22:30:32.468247Z"
    }
   },
   "outputs": [],
   "source": [
    "# When you think you have the answer, try the code here.\n"
   ]
  },
  {
   "cell_type": "markdown",
   "id": "c1c1dba3",
   "metadata": {},
   "source": [
    "## Leaping ahead\n",
    "\n",
    "This one is more tricky, and uses stuff you have not yet seen.  Look at this and try and predict what you would see, after you run these two statements.  Then try running them in a Notebook or in Python.  What do you see?  Why?\n",
    "\n",
    "```\n",
    "my_variable == 5\n",
    "my_variable * 4\n",
    "```\n",
    "\n",
    "Hint: look carefully at the equals in the first statement.  You may want to do\n",
    "a web-search to see what is going on.\n"
   ]
  },
  {
   "cell_type": "code",
   "execution_count": 8,
   "id": "b361b4b2",
   "metadata": {
    "execution": {
     "iopub.execute_input": "2022-11-02T22:30:32.470460Z",
     "iopub.status.busy": "2022-11-02T22:30:32.470327Z",
     "iopub.status.idle": "2022-11-02T22:30:32.472085Z",
     "shell.execute_reply": "2022-11-02T22:30:32.471767Z"
    }
   },
   "outputs": [],
   "source": [
    "# When you think you have the answer, try the code here.\n"
   ]
  }
 ],
 "metadata": {
  "anaconda-cloud": {},
  "jupytext": {
   "notebook_metadata_filter": "all,-language_info",
   "split_at_heading": true,
   "text_representation": {
    "extension": ".Rmd",
    "format_name": "rmarkdown",
    "format_version": "1.2",
    "jupytext_version": "1.13.7"
   }
  },
  "kernelspec": {
   "display_name": "Python 3",
   "language": "python",
   "name": "python3"
  },
  "language_info": {
   "codemirror_mode": {
    "name": "ipython",
    "version": 3
   },
   "file_extension": ".py",
   "mimetype": "text/x-python",
   "name": "python",
   "nbconvert_exporter": "python",
   "pygments_lexer": "ipython3",
   "version": "3.10.7"
  }
 },
 "nbformat": 4,
 "nbformat_minor": 5
}
