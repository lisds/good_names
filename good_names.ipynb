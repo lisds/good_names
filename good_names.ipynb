{
 "cells": [
  {
   "cell_type": "markdown",
   "id": "ade328bc",
   "metadata": {},
   "source": [
    "# On names\n",
    "\n",
    "This page has some exercises that relate most directly to the\n",
    "[names](https://lisds.github.io/textbook/code-basics/Names) section.\n",
    "\n",
    "Below you will see some code for you to look at, and think about.  You may want\n",
    "to test things out in code.   We have made you some notebook code cells to test\n",
    "stuff below the questions.\n"
   ]
  },
  {
   "cell_type": "markdown",
   "id": "6bbb68d0",
   "metadata": {},
   "source": [
    "## Good names?\n",
    "\n",
    "Here are some assignment statements. Are these valid names?  Why - or why not?\n",
    "When you have an answer, try the names in the Notebook cell below this one,\n",
    "and see what you get."
   ]
  },
  {
   "cell_type": "markdown",
   "id": "2a08d543",
   "metadata": {},
   "source": [
    "```\n",
    "five = 5\n",
    "```\n",
    "\n",
    "```\n",
    "Five = 5\n",
    "```\n",
    "\n",
    "```\n",
    "five_Point_three = 5\n",
    "```\n",
    "\n",
    "```\n",
    "five3 = 5\n",
    "```\n",
    "\n",
    "```\n",
    "_five_ = 5\n",
    "```\n",
    "\n",
    "```\n",
    "five_3 = 5\n",
    "```\n",
    "\n",
    "```\n",
    "five.3 = 5\n",
    "```\n",
    "\n",
    "```\n",
    "3five = 5\n",
    "```\n",
    "\n",
    "```\n",
    "five-point-three = 5\n",
    "```"
   ]
  },
  {
   "cell_type": "code",
   "execution_count": null,
   "id": "28c1b549",
   "metadata": {
    "lines_to_next_cell": 0
   },
   "outputs": [],
   "source": [
    "# Use this cell to copy / paste the individual assignment statements\n",
    "# after you have decided whether and why Python will reject them.\n"
   ]
  },
  {
   "cell_type": "markdown",
   "id": "0ec40ca9",
   "metadata": {},
   "source": [
    "\n"
   ]
  },
  {
   "cell_type": "markdown",
   "id": "72b8467f",
   "metadata": {},
   "source": [
    "## How does assignment work?\n",
    "\n",
    "Look at these blocks of lines below, and try and work out what each of these\n",
    "expressions will return.  Are they valid expressions?  Will they give an\n",
    "error?\n",
    "\n",
    "Don't enter the lines into the notebook until you have worked out your answer.\n",
    "When you do have an answer, try entering the expression in the code cell.\n",
    "\n",
    "Two variables:\n",
    "\n",
    "```\n",
    "a = 5\n",
    "b = 3\n",
    "a + b * 4\n",
    "```"
   ]
  },
  {
   "cell_type": "code",
   "execution_count": null,
   "id": "72552a68",
   "metadata": {},
   "outputs": [],
   "source": [
    "# When you think you have the answer, try the code here.\n"
   ]
  },
  {
   "cell_type": "markdown",
   "id": "8b9f27e9",
   "metadata": {},
   "source": [
    "Reassignment:\n",
    "\n",
    "```\n",
    "a = 5\n",
    "a = a + 3\n",
    "a\n",
    "```"
   ]
  },
  {
   "cell_type": "code",
   "execution_count": null,
   "id": "aa2d6b60",
   "metadata": {},
   "outputs": [],
   "source": [
    "# When you think you have the answer, try the code here.\n"
   ]
  },
  {
   "cell_type": "markdown",
   "id": "5f649f55",
   "metadata": {},
   "source": [
    "Reassignment again:\n",
    "\n",
    "```\n",
    "a = 5\n",
    "b = a + 3\n",
    "a = 3\n",
    "b\n",
    "```"
   ]
  },
  {
   "cell_type": "code",
   "execution_count": null,
   "id": "4f964b23",
   "metadata": {},
   "outputs": [],
   "source": [
    "# When you think you have the answer, try the code here.\n"
   ]
  },
  {
   "cell_type": "markdown",
   "id": "688ddad9",
   "metadata": {},
   "source": [
    "Reassignment again again:\n",
    "\n",
    "```\n",
    "first_variable = 5\n",
    "second_variable = first_variable + 3\n",
    "first_variable = 3\n",
    "second_variable\n",
    "```"
   ]
  },
  {
   "cell_type": "code",
   "execution_count": null,
   "id": "d0ee7f39",
   "metadata": {},
   "outputs": [],
   "source": [
    "# When you think you have the answer, try the code here.\n"
   ]
  },
  {
   "cell_type": "markdown",
   "id": "7084b84f",
   "metadata": {},
   "source": [
    "Another two variables:\n",
    "\n",
    "```\n",
    "a = 5\n",
    "a * 3 * c\n",
    "```"
   ]
  },
  {
   "cell_type": "code",
   "execution_count": null,
   "id": "568c21ab",
   "metadata": {},
   "outputs": [],
   "source": [
    "# When you think you have the answer, try the code here.\n"
   ]
  },
  {
   "cell_type": "markdown",
   "id": "a172b980",
   "metadata": {},
   "source": [
    "What about this expression?\n",
    "\n",
    "```\n",
    "a = 5\n",
    "a 5 + 4 * 3\n",
    "```"
   ]
  },
  {
   "cell_type": "code",
   "execution_count": null,
   "id": "e187d1f8",
   "metadata": {},
   "outputs": [],
   "source": [
    "# When you think you have the answer, try the code here.\n"
   ]
  },
  {
   "cell_type": "markdown",
   "id": "1a012d39",
   "metadata": {},
   "source": [
    "## Leaping ahead\n",
    "\n",
    "This one is more tricky, and uses stuff you have not yet seen.  Look at this and try and predict what you would see, after you run these two statements.  Then try running them in a Notebook or in Python.  What do you see?  Why?\n",
    "\n",
    "```\n",
    "my_variable == 5\n",
    "my_variable * 4\n",
    "```\n",
    "\n",
    "Hint: look carefully at the equals in the first statement.  You may want to do\n",
    "a web-search to see what is going on.\n"
   ]
  },
  {
   "cell_type": "code",
   "execution_count": null,
   "id": "a02c7342",
   "metadata": {},
   "outputs": [],
   "source": [
    "# When you think you have the answer, try the code here.\n"
   ]
  }
 ],
 "metadata": {
  "anaconda-cloud": {},
  "jupytext": {
   "notebook_metadata_filter": "all,-language_info",
   "split_at_heading": true,
   "text_representation": {
    "extension": ".Rmd",
    "format_name": "rmarkdown",
    "format_version": "1.2",
    "jupytext_version": "1.13.7"
   }
  },
  "kernelspec": {
   "display_name": "Python 3",
   "language": "python",
   "name": "python3"
  }
 },
 "nbformat": 4,
 "nbformat_minor": 5
}
